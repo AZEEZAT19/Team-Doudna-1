{
 "cells": [
  {
   "cell_type": "markdown",
   "id": "0e805e5c",
   "metadata": {},
   "source": [
    "Script to print Blessing's Bios"
   ]
  },
  {
   "cell_type": "code",
   "execution_count": 1,
   "id": "22cf9cb9",
   "metadata": {},
   "outputs": [
    {
     "name": "stdout",
     "output_type": "stream",
     "text": [
      "Blessing Personal Bios below:\n",
      "Name- Blessing Olabosoye\n",
      "Email- bleznolap@gmail.com\n",
      "Slack Username- @Blessing\n",
      "Biostack- Genomics\n"
     ]
    }
   ],
   "source": [
    "name = 'Blessing Olabosoye'\n",
    "email = 'bleznolap@gmail.com'\n",
    "slack_username = '@Blessing'\n",
    "biostack = 'Genomics'\n",
    "           \n",
    "print('Blessing Personal Bios below:\\nName- {}\\nEmail- {}\\nSlack Username- {}\\nBiostack- {}'.format(name, email, slack_username, biostack))    "
   ]
  }
 ],
 "metadata": {
  "kernelspec": {
   "display_name": "Python 3",
   "language": "python",
   "name": "python3"
  },
  "language_info": {
   "codemirror_mode": {
    "name": "ipython",
    "version": 3
   },
   "file_extension": ".py",
   "mimetype": "text/x-python",
   "name": "python",
   "nbconvert_exporter": "python",
   "pygments_lexer": "ipython3",
   "version": "3.7.10"
  }
 },
 "nbformat": 4,
 "nbformat_minor": 5
}
